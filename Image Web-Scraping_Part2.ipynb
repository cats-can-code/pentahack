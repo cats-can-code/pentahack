{
 "cells": [
  {
   "cell_type": "markdown",
   "metadata": {},
   "source": [
    "# Step1. Import all required libraries"
   ]
  },
  {
   "cell_type": "code",
   "execution_count": 3,
   "metadata": {},
   "outputs": [],
   "source": [
    "import os\n",
    "import selenium\n",
    "from selenium import webdriver\n",
    "import time\n",
    "from PIL import Image\n",
    "import io\n",
    "import requests\n",
    "from webdriver_manager.chrome import ChromeDriverManager\n"
   ]
  },
  {
   "cell_type": "markdown",
   "metadata": {},
   "source": [
    "# Step2. Install Chrome Driver"
   ]
  },
  {
   "cell_type": "code",
   "execution_count": 5,
   "metadata": {},
   "outputs": [
    {
     "name": "stderr",
     "output_type": "stream",
     "text": [
      "C:\\Users\\Admin\\AppData\\Local\\Temp\\ipykernel_27888\\1125334409.py:3: DeprecationWarning: headless property is deprecated, instead use add_argument('--headless') or add_argument('--headless=new')\n",
      "  opts.headless=True\n",
      "[WDM] - Downloading: 100%|██████████| 6.79M/6.79M [00:00<00:00, 8.53MB/s]\n",
      "C:\\Users\\Admin\\AppData\\Local\\Temp\\ipykernel_27888\\1125334409.py:5: DeprecationWarning: executable_path has been deprecated, please pass in a Service object\n",
      "  driver = webdriver.Chrome(ChromeDriverManager().install() ,options=opts)\n"
     ]
    }
   ],
   "source": [
    "#Install driver\n",
    "opts=webdriver.ChromeOptions()\n",
    "opts.headless=True\n",
    "\n",
    "driver = webdriver.Chrome(ChromeDriverManager().install() ,options=opts)\n"
   ]
  },
  {
   "cell_type": "markdown",
   "metadata": {},
   "source": [
    "# Step3. Specify seach URL"
   ]
  },
  {
   "cell_type": "code",
   "execution_count": 6,
   "metadata": {},
   "outputs": [],
   "source": [
    "search_url = \"https://www.google.com/search?q={s}&tbm=isch&hl=en&tbs=il:cl&rlz=1C1CHBD_enSG948SG948&sa=X&ved=0CAAQ1vwEahcKEwiIsK6cjJX-AhUAAAAAHQAAAAAQAw&biw=875&bih=719\"\n",
    "driver.get(search_url.format(s='images%20of%20annotated%20diagrams'))"
   ]
  },
  {
   "cell_type": "markdown",
   "metadata": {},
   "source": [
    "# Step4.  Write a function to take cursor to end of the page"
   ]
  },
  {
   "cell_type": "code",
   "execution_count": 7,
   "metadata": {},
   "outputs": [],
   "source": [
    "def scroll_to_end(driver):\n",
    "    driver.execute_script(\"window.scrollTo(0, document.body.scrollHeight);\")\n",
    "    time.sleep(5)#sleep_between_interactions   \n",
    "        "
   ]
  },
  {
   "cell_type": "markdown",
   "metadata": {},
   "source": [
    "# Step5. Write a function to get url of each Image"
   ]
  },
  {
   "cell_type": "code",
   "execution_count": 16,
   "metadata": {},
   "outputs": [],
   "source": [
    "#no license issues\n",
    "from selenium.webdriver.common.by import By\n",
    "\n",
    "def getImageUrls(name,totalImgs,driver):\n",
    "    search_url = \"https://www.google.com/search?q={s}&tbm=isch&hl=en&tbs=il:cl&rlz=1C1CHBD_enSG948SG948&sa=X&ved=0CAAQ1vwEahcKEwiIsK6cjJX-AhUAAAAAHQAAAAAQAw&biw=875&bih=719\"\n",
    "\n",
    "    driver.get(search_url.format(s=name))\n",
    "\n",
    "    img_urls = set()\n",
    "    img_count = 0\n",
    "    results_start = 0  \n",
    "    \n",
    "    while(img_count<totalImgs): #Extract actual images now\n",
    "        \n",
    "        scroll_to_end(driver)\n",
    "        \n",
    "        thumbnail_results =  driver.find_elements(By.XPATH,\"//img[contains(@class,'rg_i Q4LuWd')]\")\n",
    "        totalResults=len(thumbnail_results)\n",
    "        print(f\"Found: {totalResults} search results. Extracting links from {results_start}:{totalResults}\")\n",
    "        \n",
    "        for img in thumbnail_results[results_start:totalResults]:\n",
    "            \n",
    "            img.click()\n",
    "            time.sleep(2)\n",
    "            actual_images = driver.find_elements_by_css_selector('img.n3VNCb')\n",
    "            for actual_image in actual_images:\n",
    "                if actual_image.get_attribute('src') and 'https' in actual_image.get_attribute('src'):\n",
    "                    img_urls.add(actual_image.get_attribute('src'))\n",
    "            \n",
    "            img_count=len(img_urls)\n",
    "            \n",
    "            if img_count >= totalImgs:\n",
    "                print(f\"Found: {img_count} image links\")\n",
    "                break\n",
    "            else:\n",
    "                print(\"Found:\", img_count, \"looking for more image links ...\")                \n",
    "                load_more_button = driver.find_element_by_css_selector(\".mye4qd\")\n",
    "                driver.execute_script(\"document.querySelector('.mye4qd').click();\")\n",
    "                results_start = len(thumbnail_results)\n",
    "    return img_urls\n",
    "        "
   ]
  },
  {
   "cell_type": "markdown",
   "metadata": {},
   "source": [
    "# Step6. Write a function to download each Image"
   ]
  },
  {
   "cell_type": "code",
   "execution_count": 17,
   "metadata": {},
   "outputs": [],
   "source": [
    "\n",
    "def downloadImages(folder_path,file_name,url):\n",
    "    try:\n",
    "        image_content = requests.get(url).content\n",
    "\n",
    "    except Exception as e:\n",
    "        print(f\"ERROR - COULD NOT DOWNLOAD {url} - {e}\")\n",
    "\n",
    "    try:\n",
    "        image_file = io.BytesIO(image_content)\n",
    "        image = Image.open(image_file).convert('RGB')\n",
    "        \n",
    "        file_path = os.path.join(folder_path, file_name)\n",
    "        \n",
    "        with open(file_path, 'wb') as f:\n",
    "            image.save(f, \"JPEG\", quality=85)\n",
    "        print(f\"SAVED - {url} - AT: {file_path}\")\n",
    "    except Exception as e:\n",
    "        print(f\"ERROR - COULD NOT SAVE {url} - {e}\")"
   ]
  },
  {
   "cell_type": "markdown",
   "metadata": {},
   "source": [
    "# Step7. Write a function to save each Image in Destination directory"
   ]
  },
  {
   "cell_type": "code",
   "execution_count": 18,
   "metadata": {
    "scrolled": true
   },
   "outputs": [
    {
     "name": "stdout",
     "output_type": "stream",
     "text": [
      "Current Path ./Dataset2/Car\n",
      "Found: 100 search results. Extracting links from 0:100\n"
     ]
    },
    {
     "ename": "AttributeError",
     "evalue": "'WebDriver' object has no attribute 'find_elements_by_css_selector'",
     "output_type": "error",
     "traceback": [
      "\u001b[1;31m---------------------------------------------------------------------------\u001b[0m",
      "\u001b[1;31mAttributeError\u001b[0m                            Traceback (most recent call last)",
      "\u001b[1;32mc:\\Users\\Admin\\OneDrive\\Documents\\pentahack\\Image Web-Scraping_Part2.ipynb Cell 14\u001b[0m in \u001b[0;36m<cell line: 22>\u001b[1;34m()\u001b[0m\n\u001b[0;32m     <a href='vscode-notebook-cell:/c%3A/Users/Admin/OneDrive/Documents/pentahack/Image%20Web-Scraping_Part2.ipynb#X20sZmlsZQ%3D%3D?line=18'>19</a>\u001b[0m destDir\u001b[39m=\u001b[39m\u001b[39mf\u001b[39m\u001b[39m'\u001b[39m\u001b[39m./Dataset2/\u001b[39m\u001b[39m'\u001b[39m\n\u001b[0;32m     <a href='vscode-notebook-cell:/c%3A/Users/Admin/OneDrive/Documents/pentahack/Image%20Web-Scraping_Part2.ipynb#X20sZmlsZQ%3D%3D?line=19'>20</a>\u001b[0m totalImgs\u001b[39m=\u001b[39m\u001b[39m5\u001b[39m\n\u001b[1;32m---> <a href='vscode-notebook-cell:/c%3A/Users/Admin/OneDrive/Documents/pentahack/Image%20Web-Scraping_Part2.ipynb#X20sZmlsZQ%3D%3D?line=21'>22</a>\u001b[0m saveInDestFolder(searchNames,destDir,totalImgs,driver)\n",
      "\u001b[1;32mc:\\Users\\Admin\\OneDrive\\Documents\\pentahack\\Image Web-Scraping_Part2.ipynb Cell 14\u001b[0m in \u001b[0;36msaveInDestFolder\u001b[1;34m(searchNames, destDir, totalImgs, driver)\u001b[0m\n\u001b[0;32m      <a href='vscode-notebook-cell:/c%3A/Users/Admin/OneDrive/Documents/pentahack/Image%20Web-Scraping_Part2.ipynb#X20sZmlsZQ%3D%3D?line=4'>5</a>\u001b[0m     os\u001b[39m.\u001b[39mmkdir(path)\n\u001b[0;32m      <a href='vscode-notebook-cell:/c%3A/Users/Admin/OneDrive/Documents/pentahack/Image%20Web-Scraping_Part2.ipynb#X20sZmlsZQ%3D%3D?line=5'>6</a>\u001b[0m \u001b[39mprint\u001b[39m(\u001b[39m'\u001b[39m\u001b[39mCurrent Path\u001b[39m\u001b[39m'\u001b[39m,path)\n\u001b[1;32m----> <a href='vscode-notebook-cell:/c%3A/Users/Admin/OneDrive/Documents/pentahack/Image%20Web-Scraping_Part2.ipynb#X20sZmlsZQ%3D%3D?line=6'>7</a>\u001b[0m totalLinks\u001b[39m=\u001b[39mgetImageUrls(name,totalImgs,driver)\n\u001b[0;32m      <a href='vscode-notebook-cell:/c%3A/Users/Admin/OneDrive/Documents/pentahack/Image%20Web-Scraping_Part2.ipynb#X20sZmlsZQ%3D%3D?line=7'>8</a>\u001b[0m \u001b[39mprint\u001b[39m(\u001b[39m'\u001b[39m\u001b[39mtotalLinks\u001b[39m\u001b[39m'\u001b[39m,totalLinks)\n\u001b[0;32m     <a href='vscode-notebook-cell:/c%3A/Users/Admin/OneDrive/Documents/pentahack/Image%20Web-Scraping_Part2.ipynb#X20sZmlsZQ%3D%3D?line=9'>10</a>\u001b[0m \u001b[39mif\u001b[39;00m totalLinks \u001b[39mis\u001b[39;00m \u001b[39mNone\u001b[39;00m:\n",
      "\u001b[1;32mc:\\Users\\Admin\\OneDrive\\Documents\\pentahack\\Image Web-Scraping_Part2.ipynb Cell 14\u001b[0m in \u001b[0;36mgetImageUrls\u001b[1;34m(name, totalImgs, driver)\u001b[0m\n\u001b[0;32m     <a href='vscode-notebook-cell:/c%3A/Users/Admin/OneDrive/Documents/pentahack/Image%20Web-Scraping_Part2.ipynb#X20sZmlsZQ%3D%3D?line=22'>23</a>\u001b[0m img\u001b[39m.\u001b[39mclick()\n\u001b[0;32m     <a href='vscode-notebook-cell:/c%3A/Users/Admin/OneDrive/Documents/pentahack/Image%20Web-Scraping_Part2.ipynb#X20sZmlsZQ%3D%3D?line=23'>24</a>\u001b[0m time\u001b[39m.\u001b[39msleep(\u001b[39m2\u001b[39m)\n\u001b[1;32m---> <a href='vscode-notebook-cell:/c%3A/Users/Admin/OneDrive/Documents/pentahack/Image%20Web-Scraping_Part2.ipynb#X20sZmlsZQ%3D%3D?line=24'>25</a>\u001b[0m actual_images \u001b[39m=\u001b[39m driver\u001b[39m.\u001b[39;49mfind_elements_by_css_selector(\u001b[39m'\u001b[39m\u001b[39mimg.n3VNCb\u001b[39m\u001b[39m'\u001b[39m)\n\u001b[0;32m     <a href='vscode-notebook-cell:/c%3A/Users/Admin/OneDrive/Documents/pentahack/Image%20Web-Scraping_Part2.ipynb#X20sZmlsZQ%3D%3D?line=25'>26</a>\u001b[0m \u001b[39mfor\u001b[39;00m actual_image \u001b[39min\u001b[39;00m actual_images:\n\u001b[0;32m     <a href='vscode-notebook-cell:/c%3A/Users/Admin/OneDrive/Documents/pentahack/Image%20Web-Scraping_Part2.ipynb#X20sZmlsZQ%3D%3D?line=26'>27</a>\u001b[0m     \u001b[39mif\u001b[39;00m actual_image\u001b[39m.\u001b[39mget_attribute(\u001b[39m'\u001b[39m\u001b[39msrc\u001b[39m\u001b[39m'\u001b[39m) \u001b[39mand\u001b[39;00m \u001b[39m'\u001b[39m\u001b[39mhttps\u001b[39m\u001b[39m'\u001b[39m \u001b[39min\u001b[39;00m actual_image\u001b[39m.\u001b[39mget_attribute(\u001b[39m'\u001b[39m\u001b[39msrc\u001b[39m\u001b[39m'\u001b[39m):\n",
      "\u001b[1;31mAttributeError\u001b[0m: 'WebDriver' object has no attribute 'find_elements_by_css_selector'"
     ]
    }
   ],
   "source": [
    "\n",
    "def saveInDestFolder(searchNames,destDir,totalImgs,driver):\n",
    "    for name in list(searchNames):\n",
    "        path=os.path.join(destDir,name)\n",
    "        if not os.path.isdir(path):\n",
    "            os.mkdir(path)\n",
    "        print('Current Path',path)\n",
    "        totalLinks=getImageUrls(name,totalImgs,driver)\n",
    "        print('totalLinks',totalLinks)\n",
    "\n",
    "        if totalLinks is None:\n",
    "            print('images not found for :',name)\n",
    "            continue\n",
    "        else:\n",
    "            for i, link in enumerate(totalLinks):\n",
    "                file_name = f\"{i:150}.jpg\"\n",
    "                downloadImages(path,file_name,link)\n",
    "            \n",
    "searchNames=['Car','horses'] \n",
    "destDir=f'./Dataset2/'\n",
    "totalImgs=5\n",
    "\n",
    "saveInDestFolder(searchNames,destDir,totalImgs,driver)\n",
    "\n",
    "\n",
    "\n"
   ]
  },
  {
   "cell_type": "code",
   "execution_count": null,
   "metadata": {},
   "outputs": [],
   "source": []
  }
 ],
 "metadata": {
  "kernelspec": {
   "display_name": "gpu_env",
   "language": "python",
   "name": "gpu_env"
  },
  "language_info": {
   "codemirror_mode": {
    "name": "ipython",
    "version": 3
   },
   "file_extension": ".py",
   "mimetype": "text/x-python",
   "name": "python",
   "nbconvert_exporter": "python",
   "pygments_lexer": "ipython3",
   "version": "3.8.13"
  }
 },
 "nbformat": 4,
 "nbformat_minor": 4
}
