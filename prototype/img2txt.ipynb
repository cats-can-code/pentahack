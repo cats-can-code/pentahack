{
 "cells": [
  {
   "cell_type": "code",
   "execution_count": 2,
   "metadata": {},
   "outputs": [
    {
     "name": "stdout",
     "output_type": "stream",
     "text": [
      "cism in the USA : White perspectives (views)\n",
      "Source 6 C: In this account by Source 6D: in this account by\n",
      "Agnes Smediey segre— James Eastland segre—\n",
      "gation is condemned. gation is justified.\n",
      ". x The southern institution of racial segregation or\n",
      "| ’e of Negross in “\"e ;outh h?j Putaifc racial separation was the correct, self—evident truth\n",
      "| ‘e‘j and §hamed e deep h ‘,::dm which arose from the chaos and confusion of the\n",
      "_'15 cold‘ Sravaling by us win the reconstruction period. Separation promotes racial\n",
      "_‘\" pourng. the diiver ordered a d”;!‘ Negioes harmony. it permits each race to follow its own pur—\n",
      "= step back and let two han:isom: Wdl_te women suts, and its own civiization. Segregation is not\n",
      "fwam ts thel ﬂs l:;:' ; \"e\".t £ n\\:her s99 discrimination. Segregation is not a badge of racial\n",
      "ts :“af’ flewe b'f\"’? qo es inferioriy, and that i is not is recognized by both\n",
      ":ew w shovy;d l & r?le dnv:v s%ppem ':meng races in the Southem States. In fact, segregation\n",
      "ol lanle? v:n Bs c s io e is desired and supported by the vast majority of\n",
      "yipl. th?t a joke! Mhought they the members of both races in the South, who dwell\n",
      "was white and;hefy Tlrtethgglers.dThe faces of the side by side under harmonious conditions..........\n",
      "e n ce Mr. President, it is the law of nature, it is the law of\n",
      "were frozen. Mine froze too. Some of the white Bod, that every race has both the right and the\n",
      "l ie 'r’\"°k3 'g:?‘ + 'a;“g\"lf‘h”‘e J“k%& duty to perpetuate itself. All free men have the right\n",
      "xk'\\leznth za_r ‘;'( Is otuth ns f:} d o t to associate exclusively with members of their own\n",
      "h Il'k B nnve!z m\" hsa s pel k'e t'ths'ak race, free from governmental interference, i they\n",
      "ref| sal:m t IZ humaz ts delf so desire. Free men have the right to send their\n",
      ":g Oh e ms susmwou ave“ on;; i'n n;\\:v children to schools of their own choosing, free from\n",
      ":aL‘\"e:'Tl;, dp’T IZP; vla;/e 8 mow for governmental interference and to build up their\n",
      ":e ‘_ ie‘ ' nl i da d'ng rt'rnanybrea- own culture, free from governmental interference.\n",
      "gns. beceuee w_as v{ame a_ 0_zen Mee c¥ These rights are inherent in the Constitution of the\n",
      "shite people that if | did anything it would be the United States and in the American system of gov—\n",
      "people who suffered for i. ernment, both state and national, to promote and\n",
      "tect this right\n",
      "Agnes Smediey moen ts 98\n",
      "Letter to Aino Taylor James Eastland\n",
      "Representative from Mississipi, speech in\n",
      "the United States Senate (27th May,\n",
      "1954)\n",
      "\f\n"
     ]
    }
   ],
   "source": [
    "import cv2 \n",
    "import pytesseract\n",
    "\n",
    "img = cv2.imread('sample.png')\n",
    "\n",
    "# Adding custom options\n",
    "custom_config = r'--oem 3 --psm 6'\n",
    "print(pytesseract.image_to_string(img, config=custom_config))"
   ]
  },
  {
   "cell_type": "code",
   "execution_count": 8,
   "metadata": {},
   "outputs": [],
   "source": [
    "#import the PyPDF2 module\n",
    "import PyPDF2\n",
    "\n",
    "#open the PDF file\n",
    "PDFfile = open('Basic English Grammar_ For English Language Learners (Basic English Grammar for English Language Learners) ( PDFDrive ).pdf', 'rb')\n",
    "\n",
    "PDFfilereader = PyPDF2.PdfReader(PDFfile)\n",
    "final = ''\n",
    "#print the number of pages\n",
    "# print(PDFfilereader.numPages)\n",
    "for i in range(len(PDFfilereader.pages)):\n",
    "    #provide the page number\n",
    "    pages = PDFfilereader.pages[i]\n",
    "    #extracting the text in PDF file\n",
    "    text = pages.extract_text()\n",
    "    # print(text)\n",
    "    final += text\n",
    "\n",
    "#close the PDF file\n",
    "PDFfile.close()\n",
    "\n",
    "#export to text file\n",
    "text_file = open(\"sample2.txt\", \"w\")\n",
    "n = text_file.write(final)\n",
    "text_file.close()"
   ]
  },
  {
   "cell_type": "code",
   "execution_count": 3,
   "metadata": {},
   "outputs": [
    {
     "ename": "ValueError",
     "evalue": "The truth value of a Series is ambiguous. Use a.empty, a.bool(), a.item(), a.any() or a.all().",
     "output_type": "error",
     "traceback": [
      "\u001b[1;31m---------------------------------------------------------------------------\u001b[0m",
      "\u001b[1;31mValueError\u001b[0m                                Traceback (most recent call last)",
      "\u001b[1;32mc:\\Users\\Admin\\OneDrive\\Documents\\pentahack\\img2txt.ipynb Cell 6\u001b[0m in \u001b[0;36m<cell line: 7>\u001b[1;34m()\u001b[0m\n\u001b[0;32m      <a href='vscode-notebook-cell:/c%3A/Users/Admin/OneDrive/Documents/pentahack/img2txt.ipynb#W6sZmlsZQ%3D%3D?line=3'>4</a>\u001b[0m \u001b[39m#reads the table from pdf file \u001b[39;00m\n\u001b[0;32m      <a href='vscode-notebook-cell:/c%3A/Users/Admin/OneDrive/Documents/pentahack/img2txt.ipynb#W6sZmlsZQ%3D%3D?line=5'>6</a>\u001b[0m df \u001b[39m=\u001b[39m read_pdf(\u001b[39m\"\u001b[39m\u001b[39mtable.pdf\u001b[39m\u001b[39m\"\u001b[39m,pages\u001b[39m=\u001b[39m\u001b[39m\"\u001b[39m\u001b[39mall\u001b[39m\u001b[39m\"\u001b[39m) \u001b[39m#address of pdf file\u001b[39;00m\n\u001b[1;32m----> <a href='vscode-notebook-cell:/c%3A/Users/Admin/OneDrive/Documents/pentahack/img2txt.ipynb#W6sZmlsZQ%3D%3D?line=6'>7</a>\u001b[0m \u001b[39mprint\u001b[39m(tabulate(df))\n",
      "File \u001b[1;32mc:\\Users\\Admin\\OneDrive\\Documents\\Anaconda3\\envs\\gpu_env\\lib\\site-packages\\tabulate\\__init__.py:2048\u001b[0m, in \u001b[0;36mtabulate\u001b[1;34m(tabular_data, headers, tablefmt, floatfmt, intfmt, numalign, stralign, missingval, showindex, disable_numparse, colalign, maxcolwidths, rowalign, maxheadercolwidths)\u001b[0m\n\u001b[0;32m   2045\u001b[0m \u001b[39mif\u001b[39;00m tabular_data \u001b[39mis\u001b[39;00m \u001b[39mNone\u001b[39;00m:\n\u001b[0;32m   2046\u001b[0m     tabular_data \u001b[39m=\u001b[39m []\n\u001b[1;32m-> 2048\u001b[0m list_of_lists, headers \u001b[39m=\u001b[39m _normalize_tabular_data(\n\u001b[0;32m   2049\u001b[0m     tabular_data, headers, showindex\u001b[39m=\u001b[39;49mshowindex\n\u001b[0;32m   2050\u001b[0m )\n\u001b[0;32m   2051\u001b[0m list_of_lists, separating_lines \u001b[39m=\u001b[39m _remove_separating_lines(list_of_lists)\n\u001b[0;32m   2053\u001b[0m \u001b[39mif\u001b[39;00m maxcolwidths \u001b[39mis\u001b[39;00m \u001b[39mnot\u001b[39;00m \u001b[39mNone\u001b[39;00m:\n",
      "File \u001b[1;32mc:\\Users\\Admin\\OneDrive\\Documents\\Anaconda3\\envs\\gpu_env\\lib\\site-packages\\tabulate\\__init__.py:1471\u001b[0m, in \u001b[0;36m_normalize_tabular_data\u001b[1;34m(tabular_data, headers, showindex)\u001b[0m\n\u001b[0;32m   1469\u001b[0m headers \u001b[39m=\u001b[39m \u001b[39mlist\u001b[39m(\u001b[39mmap\u001b[39m(\u001b[39mstr\u001b[39m, headers))\n\u001b[0;32m   1470\u001b[0m \u001b[39m#    rows = list(map(list, rows))\u001b[39;00m\n\u001b[1;32m-> 1471\u001b[0m rows \u001b[39m=\u001b[39m \u001b[39mlist\u001b[39;49m(\u001b[39mmap\u001b[39;49m(\u001b[39mlambda\u001b[39;49;00m r: r \u001b[39mif\u001b[39;49;00m _is_separating_line(r) \u001b[39melse\u001b[39;49;00m \u001b[39mlist\u001b[39;49m(r), rows))\n\u001b[0;32m   1473\u001b[0m \u001b[39m# add or remove an index column\u001b[39;00m\n\u001b[0;32m   1474\u001b[0m showindex_is_a_str \u001b[39m=\u001b[39m \u001b[39mtype\u001b[39m(showindex) \u001b[39min\u001b[39;00m [\u001b[39mstr\u001b[39m, \u001b[39mbytes\u001b[39m]\n",
      "File \u001b[1;32mc:\\Users\\Admin\\OneDrive\\Documents\\Anaconda3\\envs\\gpu_env\\lib\\site-packages\\tabulate\\__init__.py:1471\u001b[0m, in \u001b[0;36m_normalize_tabular_data.<locals>.<lambda>\u001b[1;34m(r)\u001b[0m\n\u001b[0;32m   1469\u001b[0m headers \u001b[39m=\u001b[39m \u001b[39mlist\u001b[39m(\u001b[39mmap\u001b[39m(\u001b[39mstr\u001b[39m, headers))\n\u001b[0;32m   1470\u001b[0m \u001b[39m#    rows = list(map(list, rows))\u001b[39;00m\n\u001b[1;32m-> 1471\u001b[0m rows \u001b[39m=\u001b[39m \u001b[39mlist\u001b[39m(\u001b[39mmap\u001b[39m(\u001b[39mlambda\u001b[39;00m r: r \u001b[39mif\u001b[39;00m _is_separating_line(r) \u001b[39melse\u001b[39;00m \u001b[39mlist\u001b[39m(r), rows))\n\u001b[0;32m   1473\u001b[0m \u001b[39m# add or remove an index column\u001b[39;00m\n\u001b[0;32m   1474\u001b[0m showindex_is_a_str \u001b[39m=\u001b[39m \u001b[39mtype\u001b[39m(showindex) \u001b[39min\u001b[39;00m [\u001b[39mstr\u001b[39m, \u001b[39mbytes\u001b[39m]\n",
      "File \u001b[1;32mc:\\Users\\Admin\\OneDrive\\Documents\\Anaconda3\\envs\\gpu_env\\lib\\site-packages\\tabulate\\__init__.py:107\u001b[0m, in \u001b[0;36m_is_separating_line\u001b[1;34m(row)\u001b[0m\n\u001b[0;32m    104\u001b[0m \u001b[39mdef\u001b[39;00m \u001b[39m_is_separating_line\u001b[39m(row):\n\u001b[0;32m    105\u001b[0m     row_type \u001b[39m=\u001b[39m \u001b[39mtype\u001b[39m(row)\n\u001b[0;32m    106\u001b[0m     is_sl \u001b[39m=\u001b[39m (row_type \u001b[39m==\u001b[39m \u001b[39mlist\u001b[39m \u001b[39mor\u001b[39;00m row_type \u001b[39m==\u001b[39m \u001b[39mstr\u001b[39m) \u001b[39mand\u001b[39;00m (\n\u001b[1;32m--> 107\u001b[0m         (\u001b[39mlen\u001b[39m(row) \u001b[39m>\u001b[39m\u001b[39m=\u001b[39m \u001b[39m1\u001b[39m \u001b[39mand\u001b[39;00m row[\u001b[39m0\u001b[39m] \u001b[39m==\u001b[39m SEPARATING_LINE)\n\u001b[0;32m    108\u001b[0m         \u001b[39mor\u001b[39;00m (\u001b[39mlen\u001b[39m(row) \u001b[39m>\u001b[39m\u001b[39m=\u001b[39m \u001b[39m2\u001b[39m \u001b[39mand\u001b[39;00m row[\u001b[39m1\u001b[39m] \u001b[39m==\u001b[39m SEPARATING_LINE)\n\u001b[0;32m    109\u001b[0m     )\n\u001b[0;32m    110\u001b[0m     \u001b[39mreturn\u001b[39;00m is_sl\n",
      "File \u001b[1;32mc:\\Users\\Admin\\OneDrive\\Documents\\Anaconda3\\envs\\gpu_env\\lib\\site-packages\\pandas\\core\\generic.py:1527\u001b[0m, in \u001b[0;36mNDFrame.__nonzero__\u001b[1;34m(self)\u001b[0m\n\u001b[0;32m   1525\u001b[0m \u001b[39m@final\u001b[39m\n\u001b[0;32m   1526\u001b[0m \u001b[39mdef\u001b[39;00m \u001b[39m__nonzero__\u001b[39m(\u001b[39mself\u001b[39m):\n\u001b[1;32m-> 1527\u001b[0m     \u001b[39mraise\u001b[39;00m \u001b[39mValueError\u001b[39;00m(\n\u001b[0;32m   1528\u001b[0m         \u001b[39mf\u001b[39m\u001b[39m\"\u001b[39m\u001b[39mThe truth value of a \u001b[39m\u001b[39m{\u001b[39;00m\u001b[39mtype\u001b[39m(\u001b[39mself\u001b[39m)\u001b[39m.\u001b[39m\u001b[39m__name__\u001b[39m\u001b[39m}\u001b[39;00m\u001b[39m is ambiguous. \u001b[39m\u001b[39m\"\u001b[39m\n\u001b[0;32m   1529\u001b[0m         \u001b[39m\"\u001b[39m\u001b[39mUse a.empty, a.bool(), a.item(), a.any() or a.all().\u001b[39m\u001b[39m\"\u001b[39m\n\u001b[0;32m   1530\u001b[0m     )\n",
      "\u001b[1;31mValueError\u001b[0m: The truth value of a Series is ambiguous. Use a.empty, a.bool(), a.item(), a.any() or a.all()."
     ]
    }
   ],
   "source": [
    "\n",
    "from tabula import read_pdf \n",
    "from tabulate import tabulate \n",
    "\n",
    "#reads the table from pdf file \n",
    "\n",
    "df = read_pdf(\"table.pdf\",pages=\"all\") #address of pdf file\n",
    "print(tabulate(df))\n",
    "\n"
   ]
  },
  {
   "cell_type": "code",
   "execution_count": 4,
   "metadata": {},
   "outputs": [
    {
     "name": "stdout",
     "output_type": "stream",
     "text": [
      "[+] Found a total of 7 images in page 0\n",
      "[!] No images found on page 1\n",
      "[+] Found a total of 2 images in page 2\n",
      "[!] No images found on page 3\n",
      "[+] Found a total of 4 images in page 4\n",
      "[!] No images found on page 5\n",
      "[+] Found a total of 7 images in page 6\n",
      "[+] Found a total of 6 images in page 7\n",
      "[!] No images found on page 8\n"
     ]
    }
   ],
   "source": [
    "\n",
    "import io\n",
    "import fitz\n",
    "from PIL import Image\n",
    "\n",
    "file = 'WACV_2021_ChartOCR.pdf'\n",
    "# open the file\n",
    "pdf_file = fitz.open(file)\n",
    "\n",
    "# iterate over pdf pages\n",
    "for page_index in range(len(pdf_file)):\n",
    "    # get the page itself\n",
    "    page = pdf_file[page_index]\n",
    "    image_list = page.get_images()\n",
    "    # printing number of images found in this page\n",
    "    if image_list:\n",
    "        print(f\"[+] Found a total of {len(image_list)} images in page {page_index}\")\n",
    "    else:\n",
    "        print(\"[!] No images found on page\", page_index)\n",
    "    for image_index, img in enumerate(page.get_images(), start=1):\n",
    "        # get the XREF of the image\n",
    "        xref = img[0]\n",
    "        # extract the image bytes\n",
    "        base_image = pdf_file.extract_image(xref)\n",
    "        image_bytes = base_image[\"image\"]\n",
    "        # get the image extension\n",
    "        image_ext = base_image[\"ext\"]\n",
    "        # load it to PIL\n",
    "        image = Image.open(io.BytesIO(image_bytes))\n",
    "        # save it to local disk\n",
    "        image.save(open(f\"images/image{page_index+1}_{image_index}.{image_ext}\", \"wb\"))\n"
   ]
  },
  {
   "cell_type": "code",
   "execution_count": 5,
   "metadata": {},
   "outputs": [
    {
     "name": "stdout",
     "output_type": "stream",
     "text": [
      "Collecting easyocr\n",
      "  Downloading easyocr-1.6.2-py3-none-any.whl (2.9 MB)\n",
      "     ---------------------------------------- 2.9/2.9 MB 9.2 MB/s eta 0:00:00\n",
      "Requirement already satisfied: scikit-image in c:\\users\\admin\\onedrive\\documents\\anaconda3\\envs\\gpu_env\\lib\\site-packages (from easyocr) (0.19.3)\n",
      "Requirement already satisfied: torch in c:\\users\\admin\\onedrive\\documents\\anaconda3\\envs\\gpu_env\\lib\\site-packages (from easyocr) (1.10.2)\n",
      "Collecting Shapely\n",
      "  Downloading shapely-2.0.1-cp38-cp38-win_amd64.whl (1.4 MB)\n",
      "     ---------------------------------------- 1.4/1.4 MB 8.0 MB/s eta 0:00:00\n",
      "Collecting pyclipper\n",
      "  Downloading pyclipper-1.3.0.post4-cp38-cp38-win_amd64.whl (95 kB)\n",
      "     ---------------------------------------- 95.1/95.1 kB 5.3 MB/s eta 0:00:00\n",
      "Requirement already satisfied: numpy in c:\\users\\admin\\onedrive\\documents\\anaconda3\\envs\\gpu_env\\lib\\site-packages (from easyocr) (1.23.4)\n",
      "Collecting opencv-python-headless<=4.5.4.60\n",
      "  Downloading opencv_python_headless-4.5.4.60-cp38-cp38-win_amd64.whl (35.0 MB)\n",
      "     --------------------------------------- 35.0/35.0 MB 11.5 MB/s eta 0:00:00\n",
      "Collecting ninja\n",
      "  Downloading ninja-1.11.1-py2.py3-none-win_amd64.whl (313 kB)\n",
      "     ------------------------------------- 313.0/313.0 kB 18.9 MB/s eta 0:00:00\n",
      "Requirement already satisfied: Pillow in c:\\users\\admin\\onedrive\\documents\\anaconda3\\envs\\gpu_env\\lib\\site-packages (from easyocr) (9.2.0)\n",
      "Requirement already satisfied: PyYAML in c:\\users\\admin\\onedrive\\documents\\anaconda3\\envs\\gpu_env\\lib\\site-packages (from easyocr) (6.0)\n",
      "Collecting python-bidi\n",
      "  Downloading python_bidi-0.4.2-py2.py3-none-any.whl (30 kB)\n",
      "Requirement already satisfied: scipy in c:\\users\\admin\\onedrive\\documents\\anaconda3\\envs\\gpu_env\\lib\\site-packages (from easyocr) (1.9.3)\n",
      "Requirement already satisfied: torchvision>=0.5 in c:\\users\\admin\\onedrive\\documents\\anaconda3\\envs\\gpu_env\\lib\\site-packages (from easyocr) (0.11.0a0)\n",
      "Requirement already satisfied: six in c:\\users\\admin\\onedrive\\documents\\anaconda3\\envs\\gpu_env\\lib\\site-packages (from python-bidi->easyocr) (1.16.0)\n",
      "Requirement already satisfied: imageio>=2.4.1 in c:\\users\\admin\\onedrive\\documents\\anaconda3\\envs\\gpu_env\\lib\\site-packages (from scikit-image->easyocr) (2.22.4)\n",
      "Requirement already satisfied: tifffile>=2019.7.26 in c:\\users\\admin\\onedrive\\documents\\anaconda3\\envs\\gpu_env\\lib\\site-packages (from scikit-image->easyocr) (2022.10.10)\n",
      "Requirement already satisfied: PyWavelets>=1.1.1 in c:\\users\\admin\\onedrive\\documents\\anaconda3\\envs\\gpu_env\\lib\\site-packages (from scikit-image->easyocr) (1.4.1)\n",
      "Requirement already satisfied: packaging>=20.0 in c:\\users\\admin\\onedrive\\documents\\anaconda3\\envs\\gpu_env\\lib\\site-packages (from scikit-image->easyocr) (21.3)\n",
      "Requirement already satisfied: networkx>=2.2 in c:\\users\\admin\\onedrive\\documents\\anaconda3\\envs\\gpu_env\\lib\\site-packages (from scikit-image->easyocr) (2.8.8)\n",
      "Requirement already satisfied: typing_extensions in c:\\users\\admin\\onedrive\\documents\\anaconda3\\envs\\gpu_env\\lib\\site-packages (from torch->easyocr) (4.3.0)\n",
      "Requirement already satisfied: pyparsing!=3.0.5,>=2.0.2 in c:\\users\\admin\\onedrive\\documents\\anaconda3\\envs\\gpu_env\\lib\\site-packages (from packaging>=20.0->scikit-image->easyocr) (3.0.9)\n",
      "Installing collected packages: pyclipper, ninja, Shapely, python-bidi, opencv-python-headless, easyocr\n",
      "  Attempting uninstall: opencv-python-headless\n",
      "    Found existing installation: opencv-python-headless 4.6.0.66\n",
      "    Uninstalling opencv-python-headless-4.6.0.66:\n",
      "      Successfully uninstalled opencv-python-headless-4.6.0.66\n",
      "Successfully installed Shapely-2.0.1 easyocr-1.6.2 ninja-1.11.1 opencv-python-headless-4.5.4.60 pyclipper-1.3.0.post4 python-bidi-0.4.2\n",
      "Note: you may need to restart the kernel to use updated packages.\n"
     ]
    },
    {
     "name": "stderr",
     "output_type": "stream",
     "text": [
      "The system cannot find the path specified.\n"
     ]
    }
   ],
   "source": [
    "pip install easyocr"
   ]
  },
  {
   "cell_type": "code",
   "execution_count": 4,
   "metadata": {},
   "outputs": [
    {
     "name": "stderr",
     "output_type": "stream",
     "text": [
      "CUDA not available - defaulting to CPU. Note: This module is much faster with a GPU.\n"
     ]
    },
    {
     "name": "stdout",
     "output_type": "stream",
     "text": [
      "1532 49 192 -30\n",
      "1532 76 56 -28\n",
      "192 106 32 -34\n",
      "661 101 38 -38\n",
      "741 103 42 -40\n",
      "719 395 156 -38\n",
      "720 430 122 -30\n",
      "1164 86 103 39\n",
      "681 98 56 2\n",
      "210 103 54 3\n",
      "260 123 44 -15\n",
      "598 149 64 10\n",
      "650 168 96 20\n",
      "128 155 61 11\n",
      "177 178 96 21\n",
      "281 340 33 4\n"
     ]
    }
   ],
   "source": [
    "import cv2 \n",
    "import easyocr\n",
    "\n",
    "\n",
    "reader = easyocr.Reader(['en'], gpu = True)\n",
    "boxes = reader.readtext('images/image3_1.png')\n",
    "img = cv2.imread(\"images/image3_1.png\")\n",
    "im2 = img.copy()\n",
    "for box in boxes:\n",
    "    x, y, w, h = int(box[0][0][0]), int(box[0][0][1]), int(box[0][1][0] - box[0][0][0]), int(box[0][0][1] - box[0][2][1]) \n",
    "    print(x, y, w, h)\n",
    "    # Draw the bounding box on the text area\n",
    "    rect=cv2.rectangle(im2, (x, y), (x + w, y - h), (0, 255, 0), 2)\n",
    "     \n",
    "    # Crop the bounding box area\n",
    "    cropped = im2[y:y - h, x:x + w]\n",
    "    \n",
    "    cv2.imwrite('rectanglebox.jpg',rect)"
   ]
  },
  {
   "cell_type": "code",
   "execution_count": 12,
   "metadata": {},
   "outputs": [
    {
     "name": "stdout",
     "output_type": "stream",
     "text": [
      "Collecting selenium\n",
      "  Downloading selenium-4.8.3-py3-none-any.whl (6.5 MB)\n",
      "     ---------------------------------------- 6.5/6.5 MB 11.3 MB/s eta 0:00:00\n",
      "Requirement already satisfied: urllib3[socks]~=1.26 in c:\\users\\admin\\onedrive\\documents\\anaconda3\\envs\\gpu_env\\lib\\site-packages (from selenium) (1.26.12)\n",
      "Requirement already satisfied: certifi>=2021.10.8 in c:\\users\\admin\\onedrive\\documents\\anaconda3\\envs\\gpu_env\\lib\\site-packages (from selenium) (2022.9.24)\n",
      "Collecting trio~=0.17\n",
      "  Downloading trio-0.22.0-py3-none-any.whl (384 kB)\n",
      "     ------------------------------------- 384.9/384.9 kB 23.4 MB/s eta 0:00:00\n",
      "Collecting trio-websocket~=0.9\n",
      "  Downloading trio_websocket-0.10.2-py3-none-any.whl (17 kB)\n",
      "Collecting outcome\n",
      "  Downloading outcome-1.2.0-py2.py3-none-any.whl (9.7 kB)\n",
      "Requirement already satisfied: cffi>=1.14 in c:\\users\\admin\\onedrive\\documents\\anaconda3\\envs\\gpu_env\\lib\\site-packages (from trio~=0.17->selenium) (1.15.1)\n",
      "Requirement already satisfied: sniffio in c:\\users\\admin\\onedrive\\documents\\anaconda3\\envs\\gpu_env\\lib\\site-packages (from trio~=0.17->selenium) (1.2.0)\n",
      "Requirement already satisfied: sortedcontainers in c:\\users\\admin\\onedrive\\documents\\anaconda3\\envs\\gpu_env\\lib\\site-packages (from trio~=0.17->selenium) (2.4.0)\n",
      "Collecting async-generator>=1.9\n",
      "  Downloading async_generator-1.10-py3-none-any.whl (18 kB)\n",
      "Requirement already satisfied: attrs>=19.2.0 in c:\\users\\admin\\onedrive\\documents\\anaconda3\\envs\\gpu_env\\lib\\site-packages (from trio~=0.17->selenium) (21.4.0)\n",
      "Requirement already satisfied: idna in c:\\users\\admin\\onedrive\\documents\\anaconda3\\envs\\gpu_env\\lib\\site-packages (from trio~=0.17->selenium) (3.4)\n",
      "Collecting exceptiongroup>=1.0.0rc9\n",
      "  Downloading exceptiongroup-1.1.1-py3-none-any.whl (14 kB)\n",
      "Collecting wsproto>=0.14\n",
      "  Downloading wsproto-1.2.0-py3-none-any.whl (24 kB)\n",
      "Requirement already satisfied: PySocks!=1.5.7,<2.0,>=1.5.6 in c:\\users\\admin\\onedrive\\documents\\anaconda3\\envs\\gpu_env\\lib\\site-packages (from urllib3[socks]~=1.26->selenium) (1.7.1)\n",
      "Requirement already satisfied: pycparser in c:\\users\\admin\\onedrive\\documents\\anaconda3\\envs\\gpu_env\\lib\\site-packages (from cffi>=1.14->trio~=0.17->selenium) (2.21)\n",
      "Collecting h11<1,>=0.9.0\n",
      "  Downloading h11-0.14.0-py3-none-any.whl (58 kB)\n",
      "     ---------------------------------------- 58.3/58.3 kB 3.0 MB/s eta 0:00:00\n",
      "Installing collected packages: outcome, h11, exceptiongroup, async-generator, wsproto, trio, trio-websocket, selenium\n",
      "Successfully installed async-generator-1.10 exceptiongroup-1.1.1 h11-0.14.0 outcome-1.2.0 selenium-4.8.3 trio-0.22.0 trio-websocket-0.10.2 wsproto-1.2.0\n"
     ]
    },
    {
     "name": "stderr",
     "output_type": "stream",
     "text": [
      "The system cannot find the path specified.\n"
     ]
    }
   ],
   "source": [
    "!pip install selenium\n"
   ]
  },
  {
   "cell_type": "code",
   "execution_count": 14,
   "metadata": {},
   "outputs": [
    {
     "name": "stderr",
     "output_type": "stream",
     "text": [
      "C:\\Users\\Admin\\AppData\\Local\\Temp\\ipykernel_19520\\3278940279.py:13: DeprecationWarning: use options instead of chrome_options\n",
      "  driver = webdriver.Chrome('chromedriver',chrome_options=chrome_options)\n"
     ]
    }
   ],
   "source": [
    "!pip install selenium\n",
    "import requests\n",
    "from selenium import webdriver\n",
    "from selenium.webdriver.common.by import By\n",
    "import urllib\n",
    "import time\n",
    "\n",
    "num = 10\n",
    "\n",
    "chrome_options = webdriver.ChromeOptions()\n",
    "chrome_options.add_argument('--headless')\n",
    "chrome_options.add_argument('--no-sandbox')\n",
    "chrome_options.add_argument('--disable-dev-shm-usage')\n",
    "driver = webdriver.Chrome('chromedriver',chrome_options=chrome_options)\n",
    "# Create url variable containing the webpage for a Google image search.\n",
    "url = (\"https://www.google.com/search?q={s}&tbm=isch&hl=en&tbs=il:cl&rlz=1C1CHBD_enSG948SG948&sa=X&ved=0CAAQ1vwEahcKEwiIsK6cjJX-AhUAAAAAHQAAAAAQAw&biw=875&bih=719\")\n",
    "# Launch the browser and open the given url in the webdriver.\n",
    "driver.get(url.format(s='images%20of%20annotated%20diagrams'))\n",
    "# Scroll down the body of the web page and load the images.\n",
    "driver.execute_script(\"window.scrollTo(0,document.body.scrollHeight);\")\n",
    "time.sleep(5)\n",
    "# Find the images.\n",
    "imgResults = driver.find_elements(By.XPATH,\"//img[contains(@class,'rg_i Q4LuWd')]\")\n",
    "# Access and store the scr list of image url's.\n",
    "src = []\n",
    "for img in imgResults:\n",
    "    src.append(img.get_attribute('src'))\n",
    "# Retrieve and download the images.\n",
    "for i in range(num):\n",
    "    urllib.request.urlretrieve(str(src[i]),\"scraped/anno{}.jpg\".format(i))"
   ]
  }
 ],
 "metadata": {
  "kernelspec": {
   "display_name": "gpu_env",
   "language": "python",
   "name": "gpu_env"
  },
  "language_info": {
   "codemirror_mode": {
    "name": "ipython",
    "version": 3
   },
   "file_extension": ".py",
   "mimetype": "text/x-python",
   "name": "python",
   "nbconvert_exporter": "python",
   "pygments_lexer": "ipython3",
   "version": "3.8.13"
  },
  "orig_nbformat": 4
 },
 "nbformat": 4,
 "nbformat_minor": 2
}
