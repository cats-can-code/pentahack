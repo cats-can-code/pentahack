{
 "cells": [
  {
   "cell_type": "code",
   "execution_count": 1,
   "metadata": {},
   "outputs": [],
   "source": [
    "import numpy as np\n",
    "import matplotlib.pyplot as plt\n",
    "import tensorflow as tf\n",
    "from keras.utils import to_categorical\n",
    "from sklearn.model_selection import KFold, StratifiedKFold\n",
    "from sklearn.utils import shuffle \n",
    "from sklearn.model_selection import train_test_split\n",
    "from tensorflow.keras.optimizers import Adam, SGD\n",
    "from tensorflow.keras.models import Sequential\n",
    "from tensorflow.keras.layers import Dense, Conv2D, Flatten, BatchNormalization, MaxPooling2D, Dropout, MaxPool2D, Activation\n",
    "from tensorflow.keras.callbacks import EarlyStopping, ModelCheckpoint\n",
    "from tensorflow.keras import regularizers\n",
    "from tensorflow.keras.preprocessing.image import ImageDataGenerator\n",
    "import os\n",
    "import cv2\n",
    "from sklearn.utils import shuffle"
   ]
  },
  {
   "attachments": {},
   "cell_type": "markdown",
   "metadata": {},
   "source": [
    "## Image preprocessing"
   ]
  },
  {
   "cell_type": "code",
   "execution_count": 2,
   "metadata": {},
   "outputs": [],
   "source": [
    "def preprocess_bytes(byte_string):\n",
    "    with open(byte_string, 'rb') as f:\n",
    "        img_array = np.asarray(bytearray(f.read()), dtype=\"uint8\")\n",
    "        img = cv2.imdecode(img_array, cv2.IMREAD_COLOR)\n",
    "        img_resized = cv2.resize(img, dsize=(32, 32), interpolation=cv2.INTER_CUBIC)\n",
    "        return img_resized"
   ]
  },
  {
   "cell_type": "code",
   "execution_count": 3,
   "metadata": {},
   "outputs": [],
   "source": [
    "(others_train, _), (_, _) = tf.keras.datasets.cifar10.load_data()\n",
    "\n",
    "charts = tf.data.Dataset.list_files('charts/*.png')\n",
    "annotated_diagrams = tf.data.Dataset.list_files('annotations/*.jpg')\n",
    "\n",
    "charts_train = []\n",
    "annotated_diagrams_train = []\n",
    "\n",
    "charts_iterator = charts.as_numpy_iterator()\n",
    "annotated_diagrams_iterator = annotated_diagrams.as_numpy_iterator()\n",
    "\n",
    "while True:\n",
    "    try:\n",
    "        charts_train.append(preprocess_bytes(charts_iterator.next()))\n",
    "    except:\n",
    "        break\n",
    "\n",
    "charts_train = np.array(charts_train)\n",
    "\n",
    "while True:\n",
    "    try:\n",
    "        annotated_diagrams_train.append(preprocess_bytes(annotated_diagrams_iterator.next()))\n",
    "    except:\n",
    "        break\n",
    "\n",
    "annotated_diagrams_train = np.array(annotated_diagrams_train)"
   ]
  },
  {
   "cell_type": "code",
   "execution_count": 4,
   "metadata": {},
   "outputs": [],
   "source": [
    "charts_label = np.array([[1,0,0]]*432)\n",
    "annotated_diagrams_label = np.array([[0,1,0]]*72)\n",
    "others_label = np.array([[0,0,1]]*432)"
   ]
  },
  {
   "attachments": {},
   "cell_type": "markdown",
   "metadata": {},
   "source": [
    "## Data augmentation"
   ]
  },
  {
   "cell_type": "code",
   "execution_count": 5,
   "metadata": {},
   "outputs": [],
   "source": [
    "from tensorflow.keras.preprocessing.image import ImageDataGenerator\n",
    "\n",
    "dg = ImageDataGenerator(\n",
    "    width_shift_range=0.2,\n",
    "    height_shift_range=0.2,\n",
    "    rotation_range=0.2,\n",
    "    zoom_range=0.2,\n",
    "    horizontal_flip=True,\n",
    "    vertical_flip=True\n",
    "    )\n",
    "\n",
    "dg.fit(annotated_diagrams_train)\n",
    "\n",
    "itr = dg.flow(annotated_diagrams_train, annotated_diagrams_label, batch_size=annotated_diagrams_train.shape[0], shuffle=True)\n",
    "\n",
    "for _ in range(5):\n",
    "    X, y = itr.next()\n",
    "\n",
    "    annotated_diagrams_train = np.concatenate((annotated_diagrams_train, X), axis=0)\n",
    "    annotated_diagrams_label = np.concatenate((annotated_diagrams_label, y))"
   ]
  },
  {
   "cell_type": "code",
   "execution_count": 6,
   "metadata": {},
   "outputs": [
    {
     "data": {
      "text/plain": [
       "(432, 3)"
      ]
     },
     "execution_count": 6,
     "metadata": {},
     "output_type": "execute_result"
    }
   ],
   "source": [
    "annotated_diagrams_label.shape"
   ]
  },
  {
   "cell_type": "code",
   "execution_count": 7,
   "metadata": {},
   "outputs": [],
   "source": [
    "x = np.concatenate((charts_train[:432], annotated_diagrams_train, others_train[:432]), axis=0)\n",
    "y = np.concatenate((charts_label, annotated_diagrams_label, others_label))\n",
    "\n",
    "x, y = shuffle(x, y)"
   ]
  },
  {
   "attachments": {},
   "cell_type": "markdown",
   "metadata": {},
   "source": [
    "## Train-test split"
   ]
  },
  {
   "cell_type": "code",
   "execution_count": 8,
   "metadata": {},
   "outputs": [],
   "source": [
    "from sklearn.model_selection import train_test_split\n",
    "X_train, X_test, y_train, y_test = train_test_split(x, y, test_size=0.33, random_state=42)"
   ]
  },
  {
   "attachments": {},
   "cell_type": "markdown",
   "metadata": {},
   "source": [
    "## Model"
   ]
  },
  {
   "cell_type": "code",
   "execution_count": 9,
   "metadata": {},
   "outputs": [],
   "source": [
    "def create_six_layer_dropout_less_bn_less_dropout():\n",
    "    opt = Adam(learning_rate=0.001)\n",
    "\n",
    "    dropout_rate_1 = 0.3\n",
    "    dropout_rate_2 = 0.3\n",
    "    dropout_rate_3 = 0.3\n",
    "    \n",
    "    six_layer_conv = Sequential()\n",
    "\n",
    "    six_layer_conv.add(Conv2D(32, 3, input_shape=(32, 32, 3), activation='relu'))\n",
    "    six_layer_conv.add(Conv2D(32, 3, activation='relu'))\n",
    "    six_layer_conv.add(MaxPooling2D())\n",
    "    six_layer_conv.add(Dropout(rate=dropout_rate_1))\n",
    "    six_layer_conv.add(BatchNormalization())\n",
    "\n",
    "    six_layer_conv.add(Conv2D(64, 3, activation='relu'))\n",
    "    six_layer_conv.add(Conv2D(64, 3, activation='relu'))\n",
    "    six_layer_conv.add(MaxPooling2D())\n",
    "    six_layer_conv.add(Dropout(rate=dropout_rate_2))\n",
    "    six_layer_conv.add(BatchNormalization())\n",
    "\n",
    "    six_layer_conv.add(Conv2D(128, 3, activation='relu'))\n",
    "    six_layer_conv.add(Conv2D(128, 3, activation='relu'))\n",
    "    six_layer_conv.add(Dropout(rate=dropout_rate_3))\n",
    "    six_layer_conv.add(BatchNormalization())\n",
    "    six_layer_conv.add(Flatten())\n",
    "\n",
    "    six_layer_conv.add(Dense(200, activation='relu'))\n",
    "    six_layer_conv.add(Dense(3, activation='softmax'))\n",
    "\n",
    "    six_layer_conv.compile(optimizer=opt, loss='binary_crossentropy', metrics=['accuracy'])\n",
    "\n",
    "    return six_layer_conv"
   ]
  },
  {
   "cell_type": "code",
   "execution_count": 10,
   "metadata": {},
   "outputs": [
    {
     "name": "stdout",
     "output_type": "stream",
     "text": [
      "Epoch 1/100\n",
      "9/9 [==============================] - 7s 193ms/step - loss: 0.5092 - accuracy: 0.6279 - val_loss: 6.9588 - val_accuracy: 0.3435\n",
      "Epoch 2/100\n",
      "9/9 [==============================] - 0s 36ms/step - loss: 0.3431 - accuracy: 0.7823 - val_loss: 6.7565 - val_accuracy: 0.3435\n",
      "Epoch 3/100\n",
      "9/9 [==============================] - 0s 36ms/step - loss: 0.2801 - accuracy: 0.8168 - val_loss: 6.3238 - val_accuracy: 0.3435\n",
      "Epoch 4/100\n",
      "9/9 [==============================] - 0s 37ms/step - loss: 0.2355 - accuracy: 0.8376 - val_loss: 4.0245 - val_accuracy: 0.3435\n",
      "Epoch 5/100\n",
      "9/9 [==============================] - 0s 36ms/step - loss: 0.2106 - accuracy: 0.8698 - val_loss: 2.8529 - val_accuracy: 0.3505\n",
      "Epoch 6/100\n",
      "9/9 [==============================] - 0s 36ms/step - loss: 0.1813 - accuracy: 0.8952 - val_loss: 2.2771 - val_accuracy: 0.3575\n",
      "Epoch 7/100\n",
      "9/9 [==============================] - 0s 35ms/step - loss: 0.1628 - accuracy: 0.8952 - val_loss: 2.6374 - val_accuracy: 0.4276\n",
      "Epoch 8/100\n",
      "9/9 [==============================] - 0s 36ms/step - loss: 0.1617 - accuracy: 0.8986 - val_loss: 2.6959 - val_accuracy: 0.3832\n",
      "Epoch 9/100\n",
      "9/9 [==============================] - 0s 37ms/step - loss: 0.1684 - accuracy: 0.8917 - val_loss: 2.7980 - val_accuracy: 0.3808\n",
      "Epoch 10/100\n",
      "9/9 [==============================] - 0s 41ms/step - loss: 0.1503 - accuracy: 0.9124 - val_loss: 0.5734 - val_accuracy: 0.6332\n",
      "Epoch 11/100\n",
      "9/9 [==============================] - 0s 38ms/step - loss: 0.1002 - accuracy: 0.9389 - val_loss: 0.2072 - val_accuracy: 0.8855\n",
      "Epoch 12/100\n",
      "9/9 [==============================] - 0s 39ms/step - loss: 0.0834 - accuracy: 0.9562 - val_loss: 0.3895 - val_accuracy: 0.7804\n",
      "Epoch 13/100\n",
      "9/9 [==============================] - 0s 37ms/step - loss: 0.0752 - accuracy: 0.9539 - val_loss: 0.4152 - val_accuracy: 0.7336\n",
      "Epoch 14/100\n",
      "9/9 [==============================] - 0s 35ms/step - loss: 0.0955 - accuracy: 0.9459 - val_loss: 0.3847 - val_accuracy: 0.7921\n",
      "Epoch 15/100\n",
      "9/9 [==============================] - 0s 36ms/step - loss: 0.1171 - accuracy: 0.9424 - val_loss: 0.2127 - val_accuracy: 0.8808\n",
      "Epoch 16/100\n",
      "9/9 [==============================] - 0s 36ms/step - loss: 0.0663 - accuracy: 0.9654 - val_loss: 0.4285 - val_accuracy: 0.7687\n",
      "Epoch 17/100\n",
      "9/9 [==============================] - 0s 35ms/step - loss: 0.0555 - accuracy: 0.9689 - val_loss: 0.4822 - val_accuracy: 0.7360\n",
      "Epoch 18/100\n",
      "9/9 [==============================] - 0s 38ms/step - loss: 0.0519 - accuracy: 0.9689 - val_loss: 0.1706 - val_accuracy: 0.8925\n",
      "Epoch 19/100\n",
      "9/9 [==============================] - 0s 35ms/step - loss: 0.0587 - accuracy: 0.9770 - val_loss: 0.3498 - val_accuracy: 0.7734\n",
      "Epoch 20/100\n",
      "9/9 [==============================] - 0s 36ms/step - loss: 0.0300 - accuracy: 0.9862 - val_loss: 0.1590 - val_accuracy: 0.9182\n",
      "Epoch 21/100\n",
      "9/9 [==============================] - 0s 42ms/step - loss: 0.0394 - accuracy: 0.9793 - val_loss: 1.2562 - val_accuracy: 0.6495\n",
      "Epoch 22/100\n",
      "9/9 [==============================] - 0s 35ms/step - loss: 0.0354 - accuracy: 0.9827 - val_loss: 0.3576 - val_accuracy: 0.8131\n",
      "Epoch 23/100\n",
      "9/9 [==============================] - 0s 35ms/step - loss: 0.0501 - accuracy: 0.9700 - val_loss: 1.3073 - val_accuracy: 0.6308\n",
      "Epoch 24/100\n",
      "9/9 [==============================] - 0s 36ms/step - loss: 0.0367 - accuracy: 0.9793 - val_loss: 1.6323 - val_accuracy: 0.6098\n",
      "Epoch 25/100\n",
      "9/9 [==============================] - 0s 35ms/step - loss: 0.0321 - accuracy: 0.9862 - val_loss: 1.3687 - val_accuracy: 0.6449\n",
      "Epoch 26/100\n",
      "9/9 [==============================] - 0s 35ms/step - loss: 0.0383 - accuracy: 0.9747 - val_loss: 1.0539 - val_accuracy: 0.6402\n",
      "Epoch 27/100\n",
      "9/9 [==============================] - 0s 36ms/step - loss: 0.0420 - accuracy: 0.9793 - val_loss: 0.4300 - val_accuracy: 0.7897\n",
      "Epoch 28/100\n",
      "9/9 [==============================] - 0s 36ms/step - loss: 0.0405 - accuracy: 0.9781 - val_loss: 0.6504 - val_accuracy: 0.7383\n",
      "Epoch 29/100\n",
      "9/9 [==============================] - 0s 37ms/step - loss: 0.0404 - accuracy: 0.9747 - val_loss: 0.1891 - val_accuracy: 0.8949\n",
      "Epoch 30/100\n",
      "9/9 [==============================] - 0s 37ms/step - loss: 0.0406 - accuracy: 0.9758 - val_loss: 0.4661 - val_accuracy: 0.8084\n",
      "Epoch 31/100\n",
      "9/9 [==============================] - 0s 38ms/step - loss: 0.0290 - accuracy: 0.9816 - val_loss: 0.4744 - val_accuracy: 0.7430\n",
      "Epoch 32/100\n",
      "9/9 [==============================] - 0s 36ms/step - loss: 0.0308 - accuracy: 0.9850 - val_loss: 0.4885 - val_accuracy: 0.7407\n",
      "Epoch 33/100\n",
      "9/9 [==============================] - 0s 35ms/step - loss: 0.0273 - accuracy: 0.9885 - val_loss: 0.1756 - val_accuracy: 0.9299\n",
      "Epoch 34/100\n",
      "9/9 [==============================] - 0s 37ms/step - loss: 0.0282 - accuracy: 0.9885 - val_loss: 0.1764 - val_accuracy: 0.9206\n",
      "Epoch 35/100\n",
      "9/9 [==============================] - 0s 36ms/step - loss: 0.0304 - accuracy: 0.9816 - val_loss: 1.2060 - val_accuracy: 0.6308\n",
      "Epoch 36/100\n",
      "9/9 [==============================] - 0s 36ms/step - loss: 0.0210 - accuracy: 0.9885 - val_loss: 1.1615 - val_accuracy: 0.6425\n",
      "Epoch 37/100\n",
      "9/9 [==============================] - 0s 36ms/step - loss: 0.0120 - accuracy: 0.9954 - val_loss: 0.6584 - val_accuracy: 0.7290\n",
      "Epoch 38/100\n",
      "9/9 [==============================] - 0s 37ms/step - loss: 0.0176 - accuracy: 0.9931 - val_loss: 0.3065 - val_accuracy: 0.8598\n",
      "Epoch 39/100\n",
      "9/9 [==============================] - 0s 36ms/step - loss: 0.0253 - accuracy: 0.9862 - val_loss: 0.5709 - val_accuracy: 0.7734\n",
      "Epoch 40/100\n",
      "9/9 [==============================] - 0s 36ms/step - loss: 0.0171 - accuracy: 0.9908 - val_loss: 0.9070 - val_accuracy: 0.7266\n",
      "Epoch 41/100\n",
      "9/9 [==============================] - 0s 38ms/step - loss: 0.0145 - accuracy: 0.9919 - val_loss: 0.2200 - val_accuracy: 0.8879\n",
      "Epoch 42/100\n",
      "9/9 [==============================] - 0s 36ms/step - loss: 0.0174 - accuracy: 0.9931 - val_loss: 0.7169 - val_accuracy: 0.7430\n",
      "Epoch 43/100\n",
      "9/9 [==============================] - 0s 36ms/step - loss: 0.0127 - accuracy: 0.9931 - val_loss: 1.2203 - val_accuracy: 0.6285\n",
      "Epoch 44/100\n",
      "9/9 [==============================] - 0s 36ms/step - loss: 0.0318 - accuracy: 0.9850 - val_loss: 0.1058 - val_accuracy: 0.9416\n",
      "Epoch 45/100\n",
      "9/9 [==============================] - 0s 44ms/step - loss: 0.0301 - accuracy: 0.9839 - val_loss: 0.3403 - val_accuracy: 0.8411\n",
      "Epoch 46/100\n",
      "9/9 [==============================] - 0s 36ms/step - loss: 0.0252 - accuracy: 0.9850 - val_loss: 0.1426 - val_accuracy: 0.9369\n",
      "Epoch 47/100\n",
      "9/9 [==============================] - 0s 37ms/step - loss: 0.0171 - accuracy: 0.9896 - val_loss: 0.4136 - val_accuracy: 0.8154\n",
      "Epoch 48/100\n",
      "9/9 [==============================] - 0s 36ms/step - loss: 0.0130 - accuracy: 0.9954 - val_loss: 0.9371 - val_accuracy: 0.7547\n",
      "Epoch 49/100\n",
      "9/9 [==============================] - 0s 36ms/step - loss: 0.0133 - accuracy: 0.9942 - val_loss: 0.8440 - val_accuracy: 0.7710\n",
      "Epoch 50/100\n",
      "9/9 [==============================] - 0s 37ms/step - loss: 0.0110 - accuracy: 0.9931 - val_loss: 0.6206 - val_accuracy: 0.7921\n",
      "Epoch 51/100\n",
      "9/9 [==============================] - 0s 36ms/step - loss: 0.0169 - accuracy: 0.9942 - val_loss: 1.0806 - val_accuracy: 0.6939\n",
      "Epoch 52/100\n",
      "9/9 [==============================] - 0s 37ms/step - loss: 0.0171 - accuracy: 0.9885 - val_loss: 0.2871 - val_accuracy: 0.8879\n",
      "Epoch 53/100\n",
      "9/9 [==============================] - 0s 36ms/step - loss: 0.0195 - accuracy: 0.9908 - val_loss: 0.4625 - val_accuracy: 0.8551\n",
      "Epoch 54/100\n",
      "9/9 [==============================] - 0s 36ms/step - loss: 0.0218 - accuracy: 0.9896 - val_loss: 0.5071 - val_accuracy: 0.8178\n",
      "Epoch 55/100\n",
      "9/9 [==============================] - 0s 37ms/step - loss: 0.0142 - accuracy: 0.9942 - val_loss: 0.7603 - val_accuracy: 0.7547\n",
      "Epoch 56/100\n",
      "9/9 [==============================] - 0s 37ms/step - loss: 0.0129 - accuracy: 0.9942 - val_loss: 0.7948 - val_accuracy: 0.7617\n",
      "Epoch 57/100\n",
      "9/9 [==============================] - 0s 44ms/step - loss: 0.0131 - accuracy: 0.9954 - val_loss: 0.3687 - val_accuracy: 0.8598\n",
      "Epoch 58/100\n",
      "9/9 [==============================] - 0s 35ms/step - loss: 0.0127 - accuracy: 0.9931 - val_loss: 0.2298 - val_accuracy: 0.9019\n",
      "Epoch 59/100\n",
      "9/9 [==============================] - 0s 36ms/step - loss: 0.0172 - accuracy: 0.9931 - val_loss: 0.1046 - val_accuracy: 0.9463\n",
      "Epoch 60/100\n",
      "9/9 [==============================] - 0s 36ms/step - loss: 0.0254 - accuracy: 0.9804 - val_loss: 0.1158 - val_accuracy: 0.9416\n",
      "Epoch 61/100\n",
      "9/9 [==============================] - 0s 36ms/step - loss: 0.0216 - accuracy: 0.9885 - val_loss: 0.1396 - val_accuracy: 0.9229\n",
      "Epoch 62/100\n",
      "9/9 [==============================] - 0s 38ms/step - loss: 0.0096 - accuracy: 0.9942 - val_loss: 0.1101 - val_accuracy: 0.9533\n",
      "Epoch 63/100\n",
      "9/9 [==============================] - 0s 37ms/step - loss: 0.0140 - accuracy: 0.9919 - val_loss: 0.1298 - val_accuracy: 0.9533\n",
      "Epoch 64/100\n",
      "9/9 [==============================] - 0s 37ms/step - loss: 0.0096 - accuracy: 0.9965 - val_loss: 0.0635 - val_accuracy: 0.9696\n",
      "Epoch 65/100\n",
      "9/9 [==============================] - 0s 38ms/step - loss: 0.0134 - accuracy: 0.9954 - val_loss: 0.0431 - val_accuracy: 0.9790\n",
      "Epoch 66/100\n",
      "9/9 [==============================] - 0s 36ms/step - loss: 0.0163 - accuracy: 0.9931 - val_loss: 0.0951 - val_accuracy: 0.9556\n",
      "Epoch 67/100\n",
      "9/9 [==============================] - 0s 36ms/step - loss: 0.0247 - accuracy: 0.9873 - val_loss: 0.2090 - val_accuracy: 0.9065\n",
      "Epoch 68/100\n",
      "9/9 [==============================] - 0s 45ms/step - loss: 0.0111 - accuracy: 0.9919 - val_loss: 0.2046 - val_accuracy: 0.9136\n",
      "Epoch 69/100\n",
      "9/9 [==============================] - 0s 38ms/step - loss: 0.0088 - accuracy: 0.9942 - val_loss: 0.1257 - val_accuracy: 0.9463\n",
      "Epoch 70/100\n",
      "9/9 [==============================] - 0s 37ms/step - loss: 0.0102 - accuracy: 0.9919 - val_loss: 0.1857 - val_accuracy: 0.9252\n",
      "Epoch 71/100\n",
      "9/9 [==============================] - 0s 37ms/step - loss: 0.0074 - accuracy: 0.9977 - val_loss: 0.1177 - val_accuracy: 0.9579\n",
      "Epoch 72/100\n",
      "9/9 [==============================] - 0s 37ms/step - loss: 0.0148 - accuracy: 0.9919 - val_loss: 0.1239 - val_accuracy: 0.9556\n",
      "Epoch 73/100\n",
      "9/9 [==============================] - 0s 37ms/step - loss: 0.0078 - accuracy: 0.9942 - val_loss: 0.7936 - val_accuracy: 0.8107\n",
      "Epoch 74/100\n",
      "9/9 [==============================] - 0s 37ms/step - loss: 0.0129 - accuracy: 0.9954 - val_loss: 0.2203 - val_accuracy: 0.9206\n",
      "Epoch 75/100\n",
      "9/9 [==============================] - 0s 37ms/step - loss: 0.0242 - accuracy: 0.9919 - val_loss: 0.1422 - val_accuracy: 0.9369\n",
      "Epoch 76/100\n",
      "9/9 [==============================] - 0s 36ms/step - loss: 0.0168 - accuracy: 0.9919 - val_loss: 0.5202 - val_accuracy: 0.8061\n",
      "Epoch 77/100\n",
      "9/9 [==============================] - 0s 37ms/step - loss: 0.0218 - accuracy: 0.9885 - val_loss: 0.2227 - val_accuracy: 0.9182\n",
      "Epoch 78/100\n",
      "9/9 [==============================] - 0s 36ms/step - loss: 0.0173 - accuracy: 0.9931 - val_loss: 0.1545 - val_accuracy: 0.9509\n",
      "Epoch 79/100\n",
      "9/9 [==============================] - 0s 41ms/step - loss: 0.0096 - accuracy: 0.9977 - val_loss: 0.0984 - val_accuracy: 0.9626\n",
      "Epoch 80/100\n",
      "9/9 [==============================] - 0s 37ms/step - loss: 0.0082 - accuracy: 0.9977 - val_loss: 0.1329 - val_accuracy: 0.9509\n",
      "Epoch 81/100\n",
      "9/9 [==============================] - 0s 36ms/step - loss: 0.0154 - accuracy: 0.9919 - val_loss: 0.1000 - val_accuracy: 0.9603\n",
      "Epoch 82/100\n",
      "9/9 [==============================] - 0s 36ms/step - loss: 0.0146 - accuracy: 0.9942 - val_loss: 0.2534 - val_accuracy: 0.9206\n",
      "Epoch 83/100\n",
      "9/9 [==============================] - 0s 35ms/step - loss: 0.0133 - accuracy: 0.9965 - val_loss: 0.1868 - val_accuracy: 0.9065\n",
      "Epoch 84/100\n",
      "9/9 [==============================] - 0s 36ms/step - loss: 0.0130 - accuracy: 0.9931 - val_loss: 0.0943 - val_accuracy: 0.9603\n",
      "Epoch 85/100\n",
      "9/9 [==============================] - 0s 36ms/step - loss: 0.0069 - accuracy: 0.9965 - val_loss: 0.0928 - val_accuracy: 0.9533\n",
      "Epoch 86/100\n",
      "9/9 [==============================] - 0s 36ms/step - loss: 0.0038 - accuracy: 0.9988 - val_loss: 0.1104 - val_accuracy: 0.9509\n",
      "Epoch 87/100\n",
      "9/9 [==============================] - 0s 36ms/step - loss: 0.0035 - accuracy: 0.9988 - val_loss: 0.1866 - val_accuracy: 0.9299\n",
      "Epoch 88/100\n",
      "9/9 [==============================] - 0s 36ms/step - loss: 0.0085 - accuracy: 0.9965 - val_loss: 0.6896 - val_accuracy: 0.7967\n",
      "Epoch 89/100\n",
      "9/9 [==============================] - 0s 36ms/step - loss: 0.0071 - accuracy: 0.9942 - val_loss: 0.1474 - val_accuracy: 0.9463\n",
      "Epoch 90/100\n",
      "9/9 [==============================] - 0s 45ms/step - loss: 0.0099 - accuracy: 0.9965 - val_loss: 0.1468 - val_accuracy: 0.9393\n",
      "Epoch 91/100\n",
      "9/9 [==============================] - 0s 36ms/step - loss: 0.0076 - accuracy: 0.9965 - val_loss: 0.2974 - val_accuracy: 0.9042\n",
      "Epoch 92/100\n",
      "9/9 [==============================] - 0s 37ms/step - loss: 0.0083 - accuracy: 0.9954 - val_loss: 0.8907 - val_accuracy: 0.8014\n",
      "Epoch 93/100\n",
      "9/9 [==============================] - 0s 36ms/step - loss: 0.0085 - accuracy: 0.9965 - val_loss: 0.1604 - val_accuracy: 0.9393\n",
      "Epoch 94/100\n",
      "9/9 [==============================] - 0s 35ms/step - loss: 0.0132 - accuracy: 0.9919 - val_loss: 0.0999 - val_accuracy: 0.9533\n",
      "Epoch 95/100\n",
      "9/9 [==============================] - 0s 36ms/step - loss: 0.0078 - accuracy: 0.9942 - val_loss: 0.1302 - val_accuracy: 0.9556\n",
      "Epoch 96/100\n",
      "9/9 [==============================] - 0s 35ms/step - loss: 0.0054 - accuracy: 0.9977 - val_loss: 0.0989 - val_accuracy: 0.9603\n",
      "Epoch 97/100\n",
      "9/9 [==============================] - 0s 36ms/step - loss: 0.0050 - accuracy: 0.9977 - val_loss: 0.0702 - val_accuracy: 0.9720\n",
      "Epoch 98/100\n",
      "9/9 [==============================] - 0s 36ms/step - loss: 0.0264 - accuracy: 0.9896 - val_loss: 0.2713 - val_accuracy: 0.8925\n",
      "Epoch 99/100\n",
      "9/9 [==============================] - 0s 36ms/step - loss: 0.0085 - accuracy: 0.9965 - val_loss: 1.1483 - val_accuracy: 0.7430\n",
      "Epoch 100/100\n",
      "9/9 [==============================] - 0s 36ms/step - loss: 0.0119 - accuracy: 0.9942 - val_loss: 1.2559 - val_accuracy: 0.7757\n"
     ]
    }
   ],
   "source": [
    "model2 = create_six_layer_dropout_less_bn_less_dropout()\n",
    "model2_history = model2.fit(X_train, y_train, batch_size=100, epochs=100, validation_data=(X_test, y_test))"
   ]
  },
  {
   "cell_type": "code",
   "execution_count": 11,
   "metadata": {},
   "outputs": [
    {
     "data": {
      "image/png": "[encoded data removed]",
      "text/plain": [
       "<Figure size 640x480 with 1 Axes>"
      ]
     },
     "metadata": {},
     "output_type": "display_data"
    }
   ],
   "source": [
    "plt.plot(model2_history.history['accuracy'])\n",
    "plt.plot(model2_history.history['val_accuracy'])\n",
    "plt.title('model accuracy')\n",
    "plt.ylabel('accuracy')\n",
    "plt.xlabel('epoch')\n",
    "plt.legend(['train', 'test'], loc='upper left')\n",
    "plt.show()"
   ]
  },
  {
   "cell_type": "code",
   "execution_count": 12,
   "metadata": {},
   "outputs": [],
   "source": [
    "file_path = f\"./modelsave/model2.h5\"\n",
    "model2.save(filepath=file_path, save_format='')"
   ]
  },
  {
   "cell_type": "code",
   "execution_count": 14,
   "metadata": {},
   "outputs": [],
   "source": [
    "from keras.models import load_model\n",
    "model = load_model(file_path)"
   ]
  }
 ],
 "metadata": {
  "kernelspec": {
   "display_name": "gpu_env",
   "language": "python",
   "name": "gpu_env"
  },
  "language_info": {
   "codemirror_mode": {
    "name": "ipython",
    "version": 3
   },
   "file_extension": ".py",
   "mimetype": "text/x-python",
   "name": "python",
   "nbconvert_exporter": "python",
   "pygments_lexer": "ipython3",
   "version": "3.8.13"
  },
  "orig_nbformat": 4
 },
 "nbformat": 4,
 "nbformat_minor": 2
}
